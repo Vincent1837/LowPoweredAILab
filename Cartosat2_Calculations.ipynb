{
 "cells": [
  {
   "cell_type": "markdown",
   "metadata": {},
   "source": [
    "# Cartosat-2 系列衛星規格\n",
    "\n",
    "1. **製造商**：印度空間研究組織（ISRO）。\n",
    "2. **發射年份**：首顆 Cartosat-2 於 2007 年 1 月 10 日發射。\n",
    "3. **軌道高度**：約 630 公里，採用太陽同步極軌道（SSPO）。\n",
    "4. **地面解析度**：優於 1 米（panchromatic 模式下達 0.8 米）。\n",
    "5. **波段數**：\n",
    "   - 全色波段（Panchromatic）。\n",
    "   - 多光譜波段（Multispectral，包含可見光和近紅外波段）。\n",
    "6. **光學性能**：\n",
    "   - 使用推帚式（Push-Broom）感測器，能夠以高解析度連續掃描地球表面。\n",
    "   - 設計用於地圖製作、城市與農業規劃及災害管理。\n",
    "7. **其它關鍵技術**：\n",
    "   - 定期重訪能力，能夠每隔 3-5 天觀測目標地區。\n",
    "   - 高靈敏度的 CCD 感測器，可提供高幀率影像​\n",
    "  \n",
    "8. **參考文獻**:\n",
    "   - [ISRO](https://www.isro.gov.in)\n",
    "   - [NASA Applied Remote Sensing Program](https://appliedsciences.nasa.gov/sites/default/files/D1P3_Fundamentals.pdf)\n",
    "   - [American Journal of Applied Sciences](https://thescipub.com/pdf/ajassp.2016.91.99.pdf)\n"
   ]
  },
  {
   "cell_type": "markdown",
   "metadata": {},
   "source": [
    "# Geodetic (WGS 84) to ECEF coordinate\n",
    "- $\\lambda$: Longitude\n",
    "- $\\phi$: Latitude\n",
    "- $h$: Height above elliposoid\n",
    "- $a$: WGS84 semi-major axis ($6378137$ meters)\n",
    "- $b$: WGS84 semi-major axis ($6356752$ meters)\n",
    "- $f$: flattening factor = $1/298.257223563$\n",
    "- $e_1$: First eccentricity $\\sqrt{\\frac{a^2-b^2}{a^2}}$\n",
    "- $e_2$: Second eccentricity $\\sqrt{\\frac{a^2-b^2}{b^2}}$\n",
    "- $R_c$: Radius of curvature in the prime vertical $\\frac{a}{\\sqrt{1-e^2_1\\sin^2\\phi}}$\n",
    "- $X = (R_c+h)\\cos\\phi\\cos\\lambda$\n",
    "- $Y = (R_c+h)\\cos\\phi\\sin\\lambda$\n",
    "- $Z = (\\frac{b^2}{a^2}R_c+h)\\sin\\phi$\n"
   ]
  },
  {
   "cell_type": "code",
   "execution_count": 3,
   "metadata": {},
   "outputs": [
    {
     "data": {
      "text/plain": [
       "(-2984270.0817803885, 4966659.466899603, 2656968.0782304243)"
      ]
     },
     "execution_count": 3,
     "metadata": {},
     "output_type": "execute_result"
    }
   ],
   "source": [
    "import math\n",
    "\n",
    "# Constants\n",
    "a = 6378137.0  # Semi-major axis in meters (WGS84)\n",
    "b = 6356752.0  # Semi-minor axis in meters (WGS84)\n",
    "phi = math.radians(24.78)  # Latitude in radians\n",
    "lambda_ = math.radians(121.00)  # Longitude in radians\n",
    "h = 0  # Elevation above the ellipsoid in meters\n",
    "\n",
    "# Compute eccentricity\n",
    "e1 = math.sqrt((a**2 - b**2) / a**2)\n",
    "\n",
    "# Compute the radius of curvature in the prime vertical\n",
    "Rc = a / math.sqrt(1 - e1**2 * math.sin(phi)**2)\n",
    "\n",
    "# Compute ECEF coordinates\n",
    "X = (Rc + h) * math.cos(phi) * math.cos(lambda_)\n",
    "Y = (Rc + h) * math.cos(phi) * math.sin(lambda_)\n",
    "Z = (b**2 / a**2 * Rc + h) * math.sin(phi)\n",
    "\n",
    "X, Y, Z"
   ]
  }
 ],
 "metadata": {
  "kernelspec": {
   "display_name": "Python 3",
   "language": "python",
   "name": "python3"
  },
  "language_info": {
   "codemirror_mode": {
    "name": "ipython",
    "version": 3
   },
   "file_extension": ".py",
   "mimetype": "text/x-python",
   "name": "python",
   "nbconvert_exporter": "python",
   "pygments_lexer": "ipython3",
   "version": "3.10.5"
  }
 },
 "nbformat": 4,
 "nbformat_minor": 4
}
